{
 "cells": [
  {
   "cell_type": "markdown",
   "metadata": {},
   "source": [
    "**Veri Seti Hikayesi**\n",
    "\n",
    "4 veri setimiz var:\n",
    "\n",
    "* products: Ürün id'leri ile ürün ad ve fiyatların tutulduğu tablodur.\n",
    "* customers: Müşteri id'leri ile müşteri ad soyad'ların tutulduğu tablodur.\n",
    "* employees: Çalışan id'lerin tutulduğu tablodur.\n",
    "* sales: Yapılan satışların kaç adet olduğu, hangi müşterinin aldığı ve hangi çalışan tarafından alındığını gösteren tablodur.\n"
   ]
  },
  {
   "cell_type": "markdown",
   "metadata": {},
   "source": [
    "Veri setlerini okutalım"
   ]
  },
  {
   "cell_type": "code",
   "execution_count": 33,
   "metadata": {},
   "outputs": [],
   "source": [
    "import numpy as np\n",
    "import pandas as pd\n",
    "import matplotlib.pyplot as plt\n",
    "import seaborn as sns\n",
    "\n",
    "customers = pd.read_csv(\"customers.csv\", engine=\"python\" )\n",
    "employees = pd.read_csv(\"employees.csv\", engine=\"python\" )\n",
    "products = pd.read_csv(\"products.csv\", engine=\"python\" )\n",
    "sales = pd.read_csv(\"sales.csv\", engine=\"python\" )\n",
    "\n"
   ]
  },
  {
   "cell_type": "code",
   "execution_count": 34,
   "metadata": {},
   "outputs": [],
   "source": [
    "def check_df(dataframe, head=5):\n",
    "\n",
    "    # boyut bilgisi\n",
    "    print(\"############################ Shape #############################\")\n",
    "    print(dataframe.shape)\n",
    "\n",
    "    # tip bilgisi\n",
    "    print(\"############################ Types #################################\")\n",
    "    print(dataframe.dtypes)\n",
    "\n",
    "    #Baştan gözlemleyelim\n",
    "    print(\"########################## Head ############################\")\n",
    "    print(dataframe.head(head))\n",
    "\n",
    "    #Sondan gözlemleyelim\n",
    "    print(\"########################### Tail ###########################\")\n",
    "    print(dataframe.tail(head))\n",
    "\n",
    "    #Veri setinde herhangi bir eksik değer var mı bakalım\n",
    "    print(\"########################## NA #########################\")\n",
    "    print(dataframe.isnull().sum())\n",
    "\n",
    "    #Tekrar etmiş veri var mı bakalım\n",
    "    print(\"########################## Duplicate Data #######################\")\n",
    "    print(dataframe.duplicated().sum())\n",
    "\n",
    "\n"
   ]
  },
  {
   "cell_type": "code",
   "execution_count": 35,
   "metadata": {},
   "outputs": [
    {
     "name": "stdout",
     "output_type": "stream",
     "text": [
      "############################ Shape #############################\n",
      "(1388921, 5)\n",
      "############################ Types #################################\n",
      "SalesID          int64\n",
      "SalesPersonID    int64\n",
      "CustomerID       int64\n",
      "ProductID        int64\n",
      "Quantity         int64\n",
      "dtype: object\n",
      "########################## Head ############################\n",
      "   SalesID  SalesPersonID  CustomerID  ProductID  Quantity\n",
      "0        4              1        4182        437       437\n",
      "1        9              1           1          1        10\n",
      "2       20              1        4182        437       437\n",
      "3       25              1           1          1        26\n",
      "4       33              1       13482         26       530\n",
      "########################### Tail ###########################\n",
      "         SalesID  SalesPersonID  CustomerID  ProductID  Quantity\n",
      "1388916  6737591              4       11120        411       916\n",
      "1388917  6737592              4       11120        411       916\n",
      "1388918  6737593              4       11120        411       916\n",
      "1388919  6737594              4       11120        411       916\n",
      "1388920  6737595              4       11120        411       916\n",
      "########################## NA #########################\n",
      "SalesID          0\n",
      "SalesPersonID    0\n",
      "CustomerID       0\n",
      "ProductID        0\n",
      "Quantity         0\n",
      "dtype: int64\n",
      "########################## Duplicate Data #######################\n",
      "0\n",
      "None\n"
     ]
    }
   ],
   "source": [
    "\n",
    "print(check_df(sales))\n",
    "\n",
    "\n",
    "\n"
   ]
  },
  {
   "cell_type": "code",
   "execution_count": 36,
   "metadata": {},
   "outputs": [
    {
     "name": "stdout",
     "output_type": "stream",
     "text": [
      "############################ Shape #############################\n",
      "(275, 4)\n",
      "############################ Types #################################\n",
      "CustomerID        int64\n",
      "FirstName        object\n",
      "MiddleInitial    object\n",
      "LastName         object\n",
      "dtype: object\n",
      "########################## Head ############################\n",
      "   CustomerID FirstName MiddleInitial   LastName\n",
      "0           1     Aaron           NaN  Alexander\n",
      "1           5     Aaron           NaN    Coleman\n",
      "2           8     Aaron           NaN     Flores\n",
      "3          21     Aaron           NaN     Powell\n",
      "4          24     Aaron           NaN       Shan\n",
      "########################### Tail ###########################\n",
      "     CustomerID FirstName MiddleInitial  LastName\n",
      "270       19280    Walter             S   Navarro\n",
      "271       19360     Wendy           NaN      Sanz\n",
      "272       19440   William             K    Sotelo\n",
      "273       19520     Wyatt           NaN  Thompson\n",
      "274       19680    Yvonne           NaN     McKay\n",
      "########################## NA #########################\n",
      "CustomerID         0\n",
      "FirstName          0\n",
      "MiddleInitial    123\n",
      "LastName           0\n",
      "dtype: int64\n",
      "########################## Duplicate Data #######################\n",
      "0\n",
      "None\n"
     ]
    }
   ],
   "source": [
    "print(check_df(customers))\n"
   ]
  },
  {
   "cell_type": "code",
   "execution_count": 37,
   "metadata": {},
   "outputs": [
    {
     "name": "stdout",
     "output_type": "stream",
     "text": [
      "############################ Shape #############################\n",
      "(267, 3)\n",
      "############################ Types #################################\n",
      "ProductID      int64\n",
      "Name          object\n",
      "Price        float64\n",
      "dtype: object\n",
      "########################## Head ############################\n",
      "   ProductID                   Name  Price\n",
      "0          1        Adjustable Race    1.6\n",
      "1          2           Bearing Ball    0.8\n",
      "2          3        BB Ball Bearing    2.4\n",
      "3          4  Headset Ball Bearings    0.0\n",
      "4          5                  Blade  189.6\n",
      "########################### Tail ###########################\n",
      "     ProductID                    Name   Price\n",
      "262        498  Mountain-500 Black, 52  539.99\n",
      "263        500       ML Bottom Bracket  101.24\n",
      "264        501       HL Bottom Bracket  121.49\n",
      "265        503      Road-750 Black, 48  539.99\n",
      "266        504      Road-750 Black, 52  539.99\n",
      "########################## NA #########################\n",
      "ProductID    0\n",
      "Name         0\n",
      "Price        0\n",
      "dtype: int64\n",
      "########################## Duplicate Data #######################\n",
      "0\n",
      "None\n"
     ]
    }
   ],
   "source": [
    "print(check_df(products))\n"
   ]
  },
  {
   "cell_type": "code",
   "execution_count": 38,
   "metadata": {},
   "outputs": [
    {
     "name": "stdout",
     "output_type": "stream",
     "text": [
      "############################ Shape #############################\n",
      "(5, 1)\n",
      "############################ Types #################################\n",
      "EmployeeID    int64\n",
      "dtype: object\n",
      "########################## Head ############################\n",
      "   EmployeeID\n",
      "0           1\n",
      "1           2\n",
      "2           3\n",
      "3           4\n",
      "4           5\n",
      "########################### Tail ###########################\n",
      "   EmployeeID\n",
      "0           1\n",
      "1           2\n",
      "2           3\n",
      "3           4\n",
      "4           5\n",
      "########################## NA #########################\n",
      "EmployeeID    0\n",
      "dtype: int64\n",
      "########################## Duplicate Data #######################\n",
      "0\n",
      "None\n"
     ]
    }
   ],
   "source": [
    "print(check_df(employees))"
   ]
  },
  {
   "cell_type": "markdown",
   "metadata": {},
   "source": [
    "Burada customers tablosundaki, ikinci isim baş harf sütununun ayırt edici olup olmadığını kontrol ettim"
   ]
  },
  {
   "cell_type": "code",
   "execution_count": 40,
   "metadata": {},
   "outputs": [
    {
     "name": "stdout",
     "output_type": "stream",
     "text": [
      "Duplicate Rows :\n"
     ]
    },
    {
     "data": {
      "text/html": [
       "<div>\n",
       "<style scoped>\n",
       "    .dataframe tbody tr th:only-of-type {\n",
       "        vertical-align: middle;\n",
       "    }\n",
       "\n",
       "    .dataframe tbody tr th {\n",
       "        vertical-align: top;\n",
       "    }\n",
       "\n",
       "    .dataframe thead th {\n",
       "        text-align: right;\n",
       "    }\n",
       "</style>\n",
       "<table border=\"1\" class=\"dataframe\">\n",
       "  <thead>\n",
       "    <tr style=\"text-align: right;\">\n",
       "      <th></th>\n",
       "      <th>FirstName</th>\n",
       "      <th>LastName</th>\n",
       "    </tr>\n",
       "  </thead>\n",
       "  <tbody>\n",
       "  </tbody>\n",
       "</table>\n",
       "</div>"
      ],
      "text/plain": [
       "Empty DataFrame\n",
       "Columns: [FirstName, LastName]\n",
       "Index: []"
      ]
     },
     "execution_count": 40,
     "metadata": {},
     "output_type": "execute_result"
    }
   ],
   "source": [
    "\n",
    "df = pd.DataFrame(customers, columns = ['FirstName', 'LastName'])\n",
    "isDuplicate = df[df.duplicated()]\n",
    "print(\"Duplicate Rows :\" )\n",
    "isDuplicate\n"
   ]
  },
  {
   "cell_type": "markdown",
   "metadata": {},
   "source": [
    "Burada aynı isim, soyisimde kişi olmadığını gördüm ve bu yüzden MiddleInitial sütununu kaldırdım"
   ]
  },
  {
   "cell_type": "code",
   "execution_count": 41,
   "metadata": {},
   "outputs": [
    {
     "data": {
      "text/html": [
       "<div>\n",
       "<style scoped>\n",
       "    .dataframe tbody tr th:only-of-type {\n",
       "        vertical-align: middle;\n",
       "    }\n",
       "\n",
       "    .dataframe tbody tr th {\n",
       "        vertical-align: top;\n",
       "    }\n",
       "\n",
       "    .dataframe thead th {\n",
       "        text-align: right;\n",
       "    }\n",
       "</style>\n",
       "<table border=\"1\" class=\"dataframe\">\n",
       "  <thead>\n",
       "    <tr style=\"text-align: right;\">\n",
       "      <th></th>\n",
       "      <th>CustomerID</th>\n",
       "      <th>FirstName</th>\n",
       "      <th>LastName</th>\n",
       "    </tr>\n",
       "  </thead>\n",
       "  <tbody>\n",
       "    <tr>\n",
       "      <th>0</th>\n",
       "      <td>1</td>\n",
       "      <td>Aaron</td>\n",
       "      <td>Alexander</td>\n",
       "    </tr>\n",
       "    <tr>\n",
       "      <th>1</th>\n",
       "      <td>5</td>\n",
       "      <td>Aaron</td>\n",
       "      <td>Coleman</td>\n",
       "    </tr>\n",
       "    <tr>\n",
       "      <th>2</th>\n",
       "      <td>8</td>\n",
       "      <td>Aaron</td>\n",
       "      <td>Flores</td>\n",
       "    </tr>\n",
       "    <tr>\n",
       "      <th>3</th>\n",
       "      <td>21</td>\n",
       "      <td>Aaron</td>\n",
       "      <td>Powell</td>\n",
       "    </tr>\n",
       "    <tr>\n",
       "      <th>4</th>\n",
       "      <td>24</td>\n",
       "      <td>Aaron</td>\n",
       "      <td>Shan</td>\n",
       "    </tr>\n",
       "    <tr>\n",
       "      <th>...</th>\n",
       "      <td>...</td>\n",
       "      <td>...</td>\n",
       "      <td>...</td>\n",
       "    </tr>\n",
       "    <tr>\n",
       "      <th>270</th>\n",
       "      <td>19280</td>\n",
       "      <td>Walter</td>\n",
       "      <td>Navarro</td>\n",
       "    </tr>\n",
       "    <tr>\n",
       "      <th>271</th>\n",
       "      <td>19360</td>\n",
       "      <td>Wendy</td>\n",
       "      <td>Sanz</td>\n",
       "    </tr>\n",
       "    <tr>\n",
       "      <th>272</th>\n",
       "      <td>19440</td>\n",
       "      <td>William</td>\n",
       "      <td>Sotelo</td>\n",
       "    </tr>\n",
       "    <tr>\n",
       "      <th>273</th>\n",
       "      <td>19520</td>\n",
       "      <td>Wyatt</td>\n",
       "      <td>Thompson</td>\n",
       "    </tr>\n",
       "    <tr>\n",
       "      <th>274</th>\n",
       "      <td>19680</td>\n",
       "      <td>Yvonne</td>\n",
       "      <td>McKay</td>\n",
       "    </tr>\n",
       "  </tbody>\n",
       "</table>\n",
       "<p>275 rows × 3 columns</p>\n",
       "</div>"
      ],
      "text/plain": [
       "     CustomerID FirstName   LastName\n",
       "0             1     Aaron  Alexander\n",
       "1             5     Aaron    Coleman\n",
       "2             8     Aaron     Flores\n",
       "3            21     Aaron     Powell\n",
       "4            24     Aaron       Shan\n",
       "..          ...       ...        ...\n",
       "270       19280    Walter    Navarro\n",
       "271       19360     Wendy       Sanz\n",
       "272       19440   William     Sotelo\n",
       "273       19520     Wyatt   Thompson\n",
       "274       19680    Yvonne      McKay\n",
       "\n",
       "[275 rows x 3 columns]"
      ]
     },
     "execution_count": 41,
     "metadata": {},
     "output_type": "execute_result"
    }
   ],
   "source": [
    "customers.drop('MiddleInitial', axis=1,inplace=True)\n",
    "customers"
   ]
  },
  {
   "cell_type": "markdown",
   "metadata": {},
   "source": [
    "Fiyatı 0 tl olan ürün var mı eğer varsa satılmışlar mı kontrolü sağladım "
   ]
  },
  {
   "cell_type": "code",
   "execution_count": 45,
   "metadata": {},
   "outputs": [
    {
     "data": {
      "text/plain": [
       "count     267.000000\n",
       "mean      474.253165\n",
       "std       730.858277\n",
       "min         0.000000\n",
       "25%        49.990000\n",
       "50%       196.400000\n",
       "75%       539.990000\n",
       "max      3578.270000\n",
       "Name: Price, dtype: float64"
      ]
     },
     "execution_count": 45,
     "metadata": {},
     "output_type": "execute_result"
    }
   ],
   "source": [
    "products[\"Price\"].describe()"
   ]
  },
  {
   "cell_type": "code",
   "execution_count": 43,
   "metadata": {},
   "outputs": [
    {
     "data": {
      "text/plain": [
       "True    33\n",
       "Name: ProductID, dtype: int64"
      ]
     },
     "execution_count": 43,
     "metadata": {},
     "output_type": "execute_result"
    }
   ],
   "source": [
    "\n",
    "df= products.loc[products['Price'] == 0.0]\n",
    "df['ProductID'].isin(sales['ProductID']).value_counts()\n",
    "\n",
    "\n",
    "\n"
   ]
  },
  {
   "cell_type": "markdown",
   "metadata": {},
   "source": [
    "Satılan ürünlerin isimleri öğrenmek için iki tabloyu birleştirdim ve ürünlerden ne kadar kazanıldığını görmek için earning adlı yeni bir sütun ekledim"
   ]
  },
  {
   "cell_type": "code",
   "execution_count": 46,
   "metadata": {},
   "outputs": [
    {
     "name": "stdout",
     "output_type": "stream",
     "text": [
      "                       Name   Price  SalesPersonID  CustomerID  Quantity  \\\n",
      "0           Adjustable Race    1.60              1           1        10   \n",
      "1           Adjustable Race    1.60              1           1        26   \n",
      "2           Adjustable Race    1.60              1           1       179   \n",
      "3           Adjustable Race    1.60              1           1       195   \n",
      "4           Adjustable Race    1.60              1           1        11   \n",
      "...                     ...     ...            ...         ...       ...   \n",
      "1388916  Road-750 Black, 52  539.99              4        1200       504   \n",
      "1388917  Road-750 Black, 52  539.99              4        1200       504   \n",
      "1388918  Road-750 Black, 52  539.99              4        1200       504   \n",
      "1388919  Road-750 Black, 52  539.99              4        1200       504   \n",
      "1388920  Road-750 Black, 52  539.99              4        1200       504   \n",
      "\n",
      "           Earning  \n",
      "0            16.00  \n",
      "1            41.60  \n",
      "2           286.40  \n",
      "3           312.00  \n",
      "4            17.60  \n",
      "...            ...  \n",
      "1388916  272154.96  \n",
      "1388917  272154.96  \n",
      "1388918  272154.96  \n",
      "1388919  272154.96  \n",
      "1388920  272154.96  \n",
      "\n",
      "[1299245 rows x 6 columns]\n"
     ]
    },
    {
     "name": "stderr",
     "output_type": "stream",
     "text": [
      "/var/folders/wx/ng4jhgrx501866710srdzt_m0000gn/T/ipykernel_15303/978583391.py:3: SettingWithCopyWarning: \n",
      "A value is trying to be set on a copy of a slice from a DataFrame\n",
      "\n",
      "See the caveats in the documentation: https://pandas.pydata.org/pandas-docs/stable/user_guide/indexing.html#returning-a-view-versus-a-copy\n",
      "  newdf.drop(['ProductID', 'SalesID'], axis=1,inplace=True)\n",
      "/var/folders/wx/ng4jhgrx501866710srdzt_m0000gn/T/ipykernel_15303/978583391.py:5: SettingWithCopyWarning: \n",
      "A value is trying to be set on a copy of a slice from a DataFrame.\n",
      "Try using .loc[row_indexer,col_indexer] = value instead\n",
      "\n",
      "See the caveats in the documentation: https://pandas.pydata.org/pandas-docs/stable/user_guide/indexing.html#returning-a-view-versus-a-copy\n",
      "  newdf['Earning'] = earning\n"
     ]
    }
   ],
   "source": [
    "merged = pd.merge( products,sales)\n",
    "newdf= merged.loc[merged['Price'] != 0.0]\n",
    "newdf.drop(['ProductID', 'SalesID'], axis=1,inplace=True)\n",
    "earning = newdf.Price * newdf.Quantity\n",
    "newdf['Earning'] = earning\n",
    "print(newdf)\n",
    "\n",
    "\n"
   ]
  },
  {
   "cell_type": "code",
   "execution_count": 122,
   "metadata": {},
   "outputs": [
    {
     "name": "stdout",
     "output_type": "stream",
     "text": [
      "   SalesPersonID       Earning\n",
      "0              1  1.265402e+11\n",
      "1              2  8.680831e+10\n",
      "3              4  5.555479e+10\n",
      "2              3  3.682692e+10\n"
     ]
    }
   ],
   "source": [
    "print(newdf.groupby('SalesPersonID')['Earning'].sum().reset_index().sort_values('Earning',ascending=False))"
   ]
  },
  {
   "cell_type": "code",
   "execution_count": 63,
   "metadata": {},
   "outputs": [
    {
     "data": {
      "image/png": "[encoded data removed]",
      "text/plain": [
       "<Figure size 432x288 with 1 Axes>"
      ]
     },
     "metadata": {
      "needs_background": "light"
     },
     "output_type": "display_data"
    }
   ],
   "source": [
    "#Çalışanların satışlardan kazandırdığı para\n",
    "salespersons = newdf.groupby(['SalesPersonID']).sum()\n",
    "salespersons['Earning'].plot.bar()\n",
    "plt.show()"
   ]
  },
  {
   "cell_type": "code",
   "execution_count": 85,
   "metadata": {},
   "outputs": [
    {
     "name": "stdout",
     "output_type": "stream",
     "text": [
      "SalesPersonID\n",
      "1    462837\n",
      "2    302683\n",
      "4    287236\n",
      "3    246489\n",
      "Name: Quantity, dtype: int64\n"
     ]
    }
   ],
   "source": [
    "#Çalışanların kaç adet satış yaptığı\n",
    "print(newdf.groupby('SalesPersonID')['Quantity'].count().sort_values(ascending=False))"
   ]
  },
  {
   "cell_type": "code",
   "execution_count": 86,
   "metadata": {},
   "outputs": [
    {
     "name": "stderr",
     "output_type": "stream",
     "text": [
      "/var/folders/wx/ng4jhgrx501866710srdzt_m0000gn/T/ipykernel_15303/3098137187.py:3: SettingWithCopyWarning: \n",
      "A value is trying to be set on a copy of a slice from a DataFrame.\n",
      "Try using .loc[row_indexer,col_indexer] = value instead\n",
      "\n",
      "See the caveats in the documentation: https://pandas.pydata.org/pandas-docs/stable/user_guide/indexing.html#returning-a-view-versus-a-copy\n",
      "  newdf[\"isClothes\"] = newdf['Name'].apply(lambda x: 'Clothes' if any(i in x for i in searchFor) else 'NotClothes')\n"
     ]
    },
    {
     "data": {
      "text/plain": [
       "<AxesSubplot: ylabel='Quantity'>"
      ]
     },
     "execution_count": 86,
     "metadata": {},
     "output_type": "execute_result"
    },
    {
     "data": {
      "image/png": "[encoded data removed]",
      "text/plain": [
       "<Figure size 432x288 with 1 Axes>"
      ]
     },
     "metadata": {},
     "output_type": "display_data"
    }
   ],
   "source": [
    "# Bonus: En çok hangi kategoriden ürün satılmış?\n",
    "searchFor = ['Shorts', 'Gloves', 'Sleeve', 'Tights','Socks']\n",
    "newdf[\"isClothes\"] = newdf['Name'].apply(lambda x: 'Clothes' if any(i in x for i in searchFor) else 'NotClothes')\n",
    "newdf\n",
    "\n",
    "\n",
    "newdf.groupby(['isClothes']).sum().plot(kind='pie', y='Quantity',autopct='%1.0f%%')\n"
   ]
  },
  {
   "cell_type": "code",
   "execution_count": 93,
   "metadata": {},
   "outputs": [
    {
     "data": {
      "text/html": [
       "<div>\n",
       "<style scoped>\n",
       "    .dataframe tbody tr th:only-of-type {\n",
       "        vertical-align: middle;\n",
       "    }\n",
       "\n",
       "    .dataframe tbody tr th {\n",
       "        vertical-align: top;\n",
       "    }\n",
       "\n",
       "    .dataframe thead th {\n",
       "        text-align: right;\n",
       "    }\n",
       "</style>\n",
       "<table border=\"1\" class=\"dataframe\">\n",
       "  <thead>\n",
       "    <tr style=\"text-align: right;\">\n",
       "      <th></th>\n",
       "      <th>CustomerID</th>\n",
       "      <th>Quantity</th>\n",
       "      <th>FirstName</th>\n",
       "      <th>LastName</th>\n",
       "    </tr>\n",
       "  </thead>\n",
       "  <tbody>\n",
       "    <tr>\n",
       "      <th>0</th>\n",
       "      <td>2880</td>\n",
       "      <td>1012</td>\n",
       "      <td>Bruce</td>\n",
       "      <td>Torres</td>\n",
       "    </tr>\n",
       "    <tr>\n",
       "      <th>1</th>\n",
       "      <td>12640</td>\n",
       "      <td>1011</td>\n",
       "      <td>Lori</td>\n",
       "      <td>Alvarez</td>\n",
       "    </tr>\n",
       "    <tr>\n",
       "      <th>2</th>\n",
       "      <td>2640</td>\n",
       "      <td>1010</td>\n",
       "      <td>Brett</td>\n",
       "      <td>Rana</td>\n",
       "    </tr>\n",
       "    <tr>\n",
       "      <th>3</th>\n",
       "      <td>12400</td>\n",
       "      <td>1009</td>\n",
       "      <td>Leslie</td>\n",
       "      <td>Ortega</td>\n",
       "    </tr>\n",
       "    <tr>\n",
       "      <th>4</th>\n",
       "      <td>2400</td>\n",
       "      <td>1008</td>\n",
       "      <td>Bonnie</td>\n",
       "      <td>Chande</td>\n",
       "    </tr>\n",
       "    <tr>\n",
       "      <th>5</th>\n",
       "      <td>11920</td>\n",
       "      <td>1005</td>\n",
       "      <td>Kristine</td>\n",
       "      <td>Alvarez</td>\n",
       "    </tr>\n",
       "    <tr>\n",
       "      <th>6</th>\n",
       "      <td>9760</td>\n",
       "      <td>1003</td>\n",
       "      <td>Jésus</td>\n",
       "      <td>Blanco</td>\n",
       "    </tr>\n",
       "    <tr>\n",
       "      <th>7</th>\n",
       "      <td>9520</td>\n",
       "      <td>1002</td>\n",
       "      <td>Jeremy</td>\n",
       "      <td>Wright</td>\n",
       "    </tr>\n",
       "    <tr>\n",
       "      <th>8</th>\n",
       "      <td>19520</td>\n",
       "      <td>1002</td>\n",
       "      <td>Wyatt</td>\n",
       "      <td>Thompson</td>\n",
       "    </tr>\n",
       "    <tr>\n",
       "      <th>9</th>\n",
       "      <td>51</td>\n",
       "      <td>1001</td>\n",
       "      <td>Aaron</td>\n",
       "      <td>Nelson</td>\n",
       "    </tr>\n",
       "  </tbody>\n",
       "</table>\n",
       "</div>"
      ],
      "text/plain": [
       "   CustomerID  Quantity FirstName  LastName\n",
       "0        2880      1012     Bruce    Torres\n",
       "1       12640      1011      Lori   Alvarez\n",
       "2        2640      1010     Brett      Rana\n",
       "3       12400      1009    Leslie    Ortega\n",
       "4        2400      1008    Bonnie    Chande\n",
       "5       11920      1005  Kristine   Alvarez\n",
       "6        9760      1003     Jésus    Blanco\n",
       "7        9520      1002    Jeremy    Wright\n",
       "8       19520      1002     Wyatt  Thompson\n",
       "9          51      1001     Aaron    Nelson"
      ]
     },
     "execution_count": 93,
     "metadata": {},
     "output_type": "execute_result"
    }
   ],
   "source": [
    "#Bonus:en çok ürün satın alan 10 müşteri listesi\n",
    "customer=newdf[['CustomerID', 'Quantity' ]].drop_duplicates(keep='last').nlargest(10, 'Quantity')\n",
    "new = customer.loc[customer['Quantity'] >= 1000]\n",
    "topcustomers = pd.merge(new,customers)\n",
    "topcustomers"
   ]
  },
  {
   "cell_type": "code",
   "execution_count": 100,
   "metadata": {},
   "outputs": [
    {
     "name": "stderr",
     "output_type": "stream",
     "text": [
      "/var/folders/wx/ng4jhgrx501866710srdzt_m0000gn/T/ipykernel_15303/2302069081.py:2: SettingWithCopyWarning: \n",
      "A value is trying to be set on a copy of a slice from a DataFrame.\n",
      "Try using .loc[row_indexer,col_indexer] = value instead\n",
      "\n",
      "See the caveats in the documentation: https://pandas.pydata.org/pandas-docs/stable/user_guide/indexing.html#returning-a-view-versus-a-copy\n",
      "  newdf['Quantity'] = newdf['Quantity'].astype(str).astype(int)\n"
     ]
    },
    {
     "data": {
      "text/plain": [
       "SalesPersonID  Name                   \n",
       "1              AWC Logo Cap                335048\n",
       "               Adjustable Race              84393\n",
       "               All-Purpose Bike Stand     1837473\n",
       "               Bearing Ball                    24\n",
       "               Blade                       203010\n",
       "                                           ...   \n",
       "4              Touring-1000 Yellow, 50     891480\n",
       "               Touring-2000 Blue, 54          954\n",
       "               Touring-3000 Blue, 44      1693445\n",
       "               Touring-3000 Blue, 50      9212023\n",
       "               Women's Tights, S              357\n",
       "Name: Quantity, Length: 358, dtype: int64"
      ]
     },
     "execution_count": 100,
     "metadata": {},
     "output_type": "execute_result"
    }
   ],
   "source": [
    "#çalışanların hangi üründen kaç tane sattığı\n",
    "newdf['Quantity'] = newdf['Quantity'].astype(str).astype(int)\n",
    "stat = newdf.groupby(['SalesPersonID','Name'])['Quantity'].sum()\n",
    "stat"
   ]
  },
  {
   "cell_type": "code",
   "execution_count": 126,
   "metadata": {},
   "outputs": [
    {
     "data": {
      "text/html": [
       "<div>\n",
       "<style scoped>\n",
       "    .dataframe tbody tr th:only-of-type {\n",
       "        vertical-align: middle;\n",
       "    }\n",
       "\n",
       "    .dataframe tbody tr th {\n",
       "        vertical-align: top;\n",
       "    }\n",
       "\n",
       "    .dataframe thead th {\n",
       "        text-align: right;\n",
       "    }\n",
       "</style>\n",
       "<table border=\"1\" class=\"dataframe\">\n",
       "  <thead>\n",
       "    <tr style=\"text-align: right;\">\n",
       "      <th></th>\n",
       "      <th>CustomerID</th>\n",
       "      <th>SalesPersonID</th>\n",
       "      <th>Quantity</th>\n",
       "    </tr>\n",
       "  </thead>\n",
       "  <tbody>\n",
       "    <tr>\n",
       "      <th>50</th>\n",
       "      <td>2880</td>\n",
       "      <td>4</td>\n",
       "      <td>1012</td>\n",
       "    </tr>\n",
       "    <tr>\n",
       "      <th>208</th>\n",
       "      <td>12640</td>\n",
       "      <td>3</td>\n",
       "      <td>1011</td>\n",
       "    </tr>\n",
       "    <tr>\n",
       "      <th>47</th>\n",
       "      <td>2640</td>\n",
       "      <td>2</td>\n",
       "      <td>1010</td>\n",
       "    </tr>\n",
       "    <tr>\n",
       "      <th>204</th>\n",
       "      <td>12400</td>\n",
       "      <td>1</td>\n",
       "      <td>1009</td>\n",
       "    </tr>\n",
       "    <tr>\n",
       "      <th>42</th>\n",
       "      <td>2400</td>\n",
       "      <td>1</td>\n",
       "      <td>1008</td>\n",
       "    </tr>\n",
       "    <tr>\n",
       "      <th>...</th>\n",
       "      <td>...</td>\n",
       "      <td>...</td>\n",
       "      <td>...</td>\n",
       "    </tr>\n",
       "    <tr>\n",
       "      <th>192</th>\n",
       "      <td>11680</td>\n",
       "      <td>2</td>\n",
       "      <td>15</td>\n",
       "    </tr>\n",
       "    <tr>\n",
       "      <th>29</th>\n",
       "      <td>1680</td>\n",
       "      <td>1</td>\n",
       "      <td>14</td>\n",
       "    </tr>\n",
       "    <tr>\n",
       "      <th>170</th>\n",
       "      <td>10000</td>\n",
       "      <td>1</td>\n",
       "      <td>14</td>\n",
       "    </tr>\n",
       "    <tr>\n",
       "      <th>174</th>\n",
       "      <td>10240</td>\n",
       "      <td>2</td>\n",
       "      <td>3</td>\n",
       "    </tr>\n",
       "    <tr>\n",
       "      <th>8</th>\n",
       "      <td>240</td>\n",
       "      <td>1</td>\n",
       "      <td>2</td>\n",
       "    </tr>\n",
       "  </tbody>\n",
       "</table>\n",
       "<p>324 rows × 3 columns</p>\n",
       "</div>"
      ],
      "text/plain": [
       "     CustomerID  SalesPersonID  Quantity\n",
       "50         2880              4      1012\n",
       "208       12640              3      1011\n",
       "47         2640              2      1010\n",
       "204       12400              1      1009\n",
       "42         2400              1      1008\n",
       "..          ...            ...       ...\n",
       "192       11680              2        15\n",
       "29         1680              1        14\n",
       "170       10000              1        14\n",
       "174       10240              2         3\n",
       "8           240              1         2\n",
       "\n",
       "[324 rows x 3 columns]"
      ]
     },
     "execution_count": 126,
     "metadata": {},
     "output_type": "execute_result"
    }
   ],
   "source": [
    "#Müşterilerin hangi çalışandan ne kadar ürün satın aldığı.\n",
    "stati = newdf.groupby(['CustomerID','SalesPersonID'])['Quantity'].max().reset_index()\n",
    "maxx=stati.sort_values('Quantity', ascending=False)\n",
    "maxx\n"
   ]
  },
  {
   "cell_type": "code",
   "execution_count": null,
   "metadata": {},
   "outputs": [],
   "source": [
    "#Burada kazancın yüksek fiyatla mı yoksa yüksek adet sayısıyla mı daha ilintili olduğunu görmek istedim\n",
    "num_cols = ['Earning', 'Price', 'Quantity']\n",
    "\n",
    "newdf[num_cols].corr()\n",
    "\n",
    "f, ax = plt.subplots(figsize=[10, 6])\n",
    "sns.heatmap(newdf[num_cols].corr(), annot=True, fmt=\".2f\", ax=ax, cmap=\"magma\")\n",
    "ax.set_title(\"Correlation Matrix\", fontsize=20)\n",
    "plt.show()"
   ]
  },
  {
   "cell_type": "markdown",
   "metadata": {},
   "source": [
    "Görselleştirmek için veri setinden %10luk bir örnek aldım"
   ]
  },
  {
   "cell_type": "code",
   "execution_count": 113,
   "metadata": {},
   "outputs": [],
   "source": [
    "import pandas\n",
    "import random\n",
    "stati = newdf.groupby(['SalesPersonID','Name'])['Quantity'].count().reset_index()\n",
    "maxx=stati.sort_values(by=['Quantity'], ascending=False)\n",
    "maxx.to_csv('file1.csv')\n",
    "\n",
    "filename = \"file1.csv\" \n",
    "n = sum(1 for line in open(filename))-1\n",
    "s = n//10 \n",
    "skip = sorted(random.sample(range(1, n+1), n-s)) \n",
    "df = pandas.read_csv(filename, skiprows=skip)\n",
    "\n"
   ]
  },
  {
   "cell_type": "code",
   "execution_count": 114,
   "metadata": {},
   "outputs": [
    {
     "data": {
      "text/html": [
       "<div>\n",
       "<style scoped>\n",
       "    .dataframe tbody tr th:only-of-type {\n",
       "        vertical-align: middle;\n",
       "    }\n",
       "\n",
       "    .dataframe tbody tr th {\n",
       "        vertical-align: top;\n",
       "    }\n",
       "\n",
       "    .dataframe thead th {\n",
       "        text-align: right;\n",
       "    }\n",
       "</style>\n",
       "<table border=\"1\" class=\"dataframe\">\n",
       "  <thead>\n",
       "    <tr style=\"text-align: right;\">\n",
       "      <th></th>\n",
       "      <th>SalesPersonID</th>\n",
       "      <th>Name</th>\n",
       "      <th>Quantity</th>\n",
       "    </tr>\n",
       "  </thead>\n",
       "  <tbody>\n",
       "    <tr>\n",
       "      <th>272</th>\n",
       "      <td>4</td>\n",
       "      <td>Bearing Ball</td>\n",
       "      <td>1012</td>\n",
       "    </tr>\n",
       "    <tr>\n",
       "      <th>188</th>\n",
       "      <td>3</td>\n",
       "      <td>Adjustable Race</td>\n",
       "      <td>1011</td>\n",
       "    </tr>\n",
       "    <tr>\n",
       "      <th>113</th>\n",
       "      <td>2</td>\n",
       "      <td>Flat Washer 3</td>\n",
       "      <td>1010</td>\n",
       "    </tr>\n",
       "    <tr>\n",
       "      <th>181</th>\n",
       "      <td>2</td>\n",
       "      <td>Thin-Jam Hex Nut 16</td>\n",
       "      <td>1010</td>\n",
       "    </tr>\n",
       "    <tr>\n",
       "      <th>85</th>\n",
       "      <td>1</td>\n",
       "      <td>Road-750 Black, 52</td>\n",
       "      <td>1009</td>\n",
       "    </tr>\n",
       "    <tr>\n",
       "      <th>...</th>\n",
       "      <td>...</td>\n",
       "      <td>...</td>\n",
       "      <td>...</td>\n",
       "    </tr>\n",
       "    <tr>\n",
       "      <th>109</th>\n",
       "      <td>2</td>\n",
       "      <td>Bearing Ball</td>\n",
       "      <td>15</td>\n",
       "    </tr>\n",
       "    <tr>\n",
       "      <th>8</th>\n",
       "      <td>1</td>\n",
       "      <td>Decal 2</td>\n",
       "      <td>15</td>\n",
       "    </tr>\n",
       "    <tr>\n",
       "      <th>7</th>\n",
       "      <td>1</td>\n",
       "      <td>Decal 1</td>\n",
       "      <td>14</td>\n",
       "    </tr>\n",
       "    <tr>\n",
       "      <th>108</th>\n",
       "      <td>2</td>\n",
       "      <td>BB Ball Bearing</td>\n",
       "      <td>3</td>\n",
       "    </tr>\n",
       "    <tr>\n",
       "      <th>3</th>\n",
       "      <td>1</td>\n",
       "      <td>Bearing Ball</td>\n",
       "      <td>2</td>\n",
       "    </tr>\n",
       "  </tbody>\n",
       "</table>\n",
       "<p>358 rows × 3 columns</p>\n",
       "</div>"
      ],
      "text/plain": [
       "     SalesPersonID                 Name  Quantity\n",
       "272              4         Bearing Ball      1012\n",
       "188              3      Adjustable Race      1011\n",
       "113              2        Flat Washer 3      1010\n",
       "181              2  Thin-Jam Hex Nut 16      1010\n",
       "85               1   Road-750 Black, 52      1009\n",
       "..             ...                  ...       ...\n",
       "109              2         Bearing Ball        15\n",
       "8                1              Decal 2        15\n",
       "7                1              Decal 1        14\n",
       "108              2      BB Ball Bearing         3\n",
       "3                1         Bearing Ball         2\n",
       "\n",
       "[358 rows x 3 columns]"
      ]
     },
     "execution_count": 114,
     "metadata": {},
     "output_type": "execute_result"
    }
   ],
   "source": [
    "# Bonus: hangi satıcı en fazla hangi ürünü satmış sattıkları arasında\n",
    "stati = newdf.groupby(['SalesPersonID','Name'])['Quantity'].max().reset_index()\n",
    "maxx=stati.sort_values(by=['Quantity'], ascending=False)\n",
    "maxx\n",
    "\n",
    "\n",
    "\n"
   ]
  }
 ],
 "metadata": {
  "kernelspec": {
   "display_name": "Python 3.10.4 64-bit",
   "language": "python",
   "name": "python3"
  },
  "language_info": {
   "codemirror_mode": {
    "name": "ipython",
    "version": 3
   },
   "file_extension": ".py",
   "mimetype": "text/x-python",
   "name": "python",
   "nbconvert_exporter": "python",
   "pygments_lexer": "ipython3",
   "version": "3.10.4"
  },
  "orig_nbformat": 4,
  "vscode": {
   "interpreter": {
    "hash": "aee8b7b246df8f9039afb4144a1f6fd8d2ca17a180786b69acc140d282b71a49"
   }
  }
 },
 "nbformat": 4,
 "nbformat_minor": 2
}
